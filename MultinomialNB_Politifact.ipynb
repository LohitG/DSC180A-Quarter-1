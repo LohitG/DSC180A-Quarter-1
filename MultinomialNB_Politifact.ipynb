{
 "cells": [
  {
   "cell_type": "code",
   "execution_count": 1,
   "id": "94e61680",
   "metadata": {},
   "outputs": [],
   "source": [
    "import pandas as pd"
   ]
  },
  {
   "cell_type": "code",
   "execution_count": 2,
   "id": "18e058c4",
   "metadata": {},
   "outputs": [],
   "source": [
    "data = pd.read_csv('politifact.csv')"
   ]
  },
  {
   "cell_type": "markdown",
   "id": "8873ad96",
   "metadata": {},
   "source": [
    "### Data Scraped by Jun Linwu"
   ]
  },
  {
   "cell_type": "code",
   "execution_count": 3,
   "id": "c59bf48c",
   "metadata": {},
   "outputs": [
    {
     "data": {
      "text/html": [
       "<div>\n",
       "<style scoped>\n",
       "    .dataframe tbody tr th:only-of-type {\n",
       "        vertical-align: middle;\n",
       "    }\n",
       "\n",
       "    .dataframe tbody tr th {\n",
       "        vertical-align: top;\n",
       "    }\n",
       "\n",
       "    .dataframe thead th {\n",
       "        text-align: right;\n",
       "    }\n",
       "</style>\n",
       "<table border=\"1\" class=\"dataframe\">\n",
       "  <thead>\n",
       "    <tr style=\"text-align: right;\">\n",
       "      <th></th>\n",
       "      <th>author</th>\n",
       "      <th>statement</th>\n",
       "      <th>source</th>\n",
       "      <th>date</th>\n",
       "      <th>target</th>\n",
       "      <th>article_url</th>\n",
       "      <th>src_url</th>\n",
       "    </tr>\n",
       "  </thead>\n",
       "  <tbody>\n",
       "    <tr>\n",
       "      <th>0</th>\n",
       "      <td>Ciara O'Rourke</td>\n",
       "      <td>“The airport in Salzburg, Austria, has a count...</td>\n",
       "      <td>Instagram posts</td>\n",
       "      <td>October 30, 2023</td>\n",
       "      <td>false</td>\n",
       "      <td>https://www.politifact.com/factchecks/2023/oct...</td>\n",
       "      <td>https://www.politifact.com/personalities/insta...</td>\n",
       "    </tr>\n",
       "    <tr>\n",
       "      <th>1</th>\n",
       "      <td>Ciara O'Rourke</td>\n",
       "      <td>Video shows Palestinians pretending to be corp...</td>\n",
       "      <td>Viral image</td>\n",
       "      <td>October 30, 2023</td>\n",
       "      <td>false</td>\n",
       "      <td>https://www.politifact.com/factchecks/2023/oct...</td>\n",
       "      <td>https://www.politifact.com/personalities/viral...</td>\n",
       "    </tr>\n",
       "    <tr>\n",
       "      <th>2</th>\n",
       "      <td>Loreben Tuquero</td>\n",
       "      <td>The life span of a wind tower generator lasts ...</td>\n",
       "      <td>Facebook posts</td>\n",
       "      <td>October 30, 2023</td>\n",
       "      <td>false</td>\n",
       "      <td>https://www.politifact.com/factchecks/2023/oct...</td>\n",
       "      <td>https://www.politifact.com/personalities/faceb...</td>\n",
       "    </tr>\n",
       "    <tr>\n",
       "      <th>3</th>\n",
       "      <td>Ciara O'Rourke</td>\n",
       "      <td>Matthew Perry died because of a COVID-19 vaccine.</td>\n",
       "      <td>Instagram posts</td>\n",
       "      <td>October 30, 2023</td>\n",
       "      <td>false</td>\n",
       "      <td>https://www.politifact.com/factchecks/2023/oct...</td>\n",
       "      <td>https://www.politifact.com/personalities/insta...</td>\n",
       "    </tr>\n",
       "    <tr>\n",
       "      <th>4</th>\n",
       "      <td>Jill Terreri</td>\n",
       "      <td>A discrepancy in the number of ballots and vot...</td>\n",
       "      <td>New York Citizens Audit</td>\n",
       "      <td>October 29, 2023</td>\n",
       "      <td>false</td>\n",
       "      <td>https://www.politifact.com/factchecks/2023/oct...</td>\n",
       "      <td>https://www.politifact.com/personalities/new-y...</td>\n",
       "    </tr>\n",
       "    <tr>\n",
       "      <th>...</th>\n",
       "      <td>...</td>\n",
       "      <td>...</td>\n",
       "      <td>...</td>\n",
       "      <td>...</td>\n",
       "      <td>...</td>\n",
       "      <td>...</td>\n",
       "      <td>...</td>\n",
       "    </tr>\n",
       "    <tr>\n",
       "      <th>23755</th>\n",
       "      <td>Wes Allison</td>\n",
       "      <td>\"You know we can't just pull out now... The tr...</td>\n",
       "      <td>Joe Biden</td>\n",
       "      <td>August 27, 2007</td>\n",
       "      <td>true</td>\n",
       "      <td>https://www.politifact.com/factchecks/2007/aug...</td>\n",
       "      <td>https://www.politifact.com/personalities/joe-b...</td>\n",
       "    </tr>\n",
       "    <tr>\n",
       "      <th>23756</th>\n",
       "      <td>Bill Adair</td>\n",
       "      <td>\"The president is brain-dead.\"</td>\n",
       "      <td>Joe Biden</td>\n",
       "      <td>August 24, 2007</td>\n",
       "      <td>pants-fire</td>\n",
       "      <td>https://www.politifact.com/factchecks/2007/aug...</td>\n",
       "      <td>https://www.politifact.com/personalities/joe-b...</td>\n",
       "    </tr>\n",
       "    <tr>\n",
       "      <th>23757</th>\n",
       "      <td>Angie Drobnic</td>\n",
       "      <td>\"(McCain) said he was opposed to overturning R...</td>\n",
       "      <td>Mitt Romney</td>\n",
       "      <td>August 23, 2007</td>\n",
       "      <td>half-true</td>\n",
       "      <td>https://www.politifact.com/factchecks/2007/aug...</td>\n",
       "      <td>https://www.politifact.com/personalities/mitt-...</td>\n",
       "    </tr>\n",
       "    <tr>\n",
       "      <th>23758</th>\n",
       "      <td>Angie Drobnic</td>\n",
       "      <td>\"(McCain) was opposed to ethanol. Now he's for...</td>\n",
       "      <td>Mitt Romney</td>\n",
       "      <td>August 23, 2007</td>\n",
       "      <td>mostly-true</td>\n",
       "      <td>https://www.politifact.com/factchecks/2007/aug...</td>\n",
       "      <td>https://www.politifact.com/personalities/mitt-...</td>\n",
       "    </tr>\n",
       "    <tr>\n",
       "      <th>23759</th>\n",
       "      <td>Wes Allison</td>\n",
       "      <td>An estimated 56 million Americans don't have b...</td>\n",
       "      <td>John Edwards</td>\n",
       "      <td>August 23, 2007</td>\n",
       "      <td>mostly-true</td>\n",
       "      <td>https://www.politifact.com/factchecks/2007/aug...</td>\n",
       "      <td>https://www.politifact.com/personalities/john-...</td>\n",
       "    </tr>\n",
       "  </tbody>\n",
       "</table>\n",
       "<p>23760 rows × 7 columns</p>\n",
       "</div>"
      ],
      "text/plain": [
       "                author                                          statement  \\\n",
       "0       Ciara O'Rourke  “The airport in Salzburg, Austria, has a count...   \n",
       "1       Ciara O'Rourke  Video shows Palestinians pretending to be corp...   \n",
       "2      Loreben Tuquero  The life span of a wind tower generator lasts ...   \n",
       "3       Ciara O'Rourke  Matthew Perry died because of a COVID-19 vaccine.   \n",
       "4         Jill Terreri  A discrepancy in the number of ballots and vot...   \n",
       "...                ...                                                ...   \n",
       "23755      Wes Allison  \"You know we can't just pull out now... The tr...   \n",
       "23756       Bill Adair                     \"The president is brain-dead.\"   \n",
       "23757    Angie Drobnic  \"(McCain) said he was opposed to overturning R...   \n",
       "23758    Angie Drobnic  \"(McCain) was opposed to ethanol. Now he's for...   \n",
       "23759      Wes Allison  An estimated 56 million Americans don't have b...   \n",
       "\n",
       "                        source              date       target  \\\n",
       "0              Instagram posts  October 30, 2023        false   \n",
       "1                  Viral image  October 30, 2023        false   \n",
       "2               Facebook posts  October 30, 2023        false   \n",
       "3              Instagram posts  October 30, 2023        false   \n",
       "4      New York Citizens Audit  October 29, 2023        false   \n",
       "...                        ...               ...          ...   \n",
       "23755                Joe Biden   August 27, 2007         true   \n",
       "23756                Joe Biden   August 24, 2007   pants-fire   \n",
       "23757              Mitt Romney   August 23, 2007    half-true   \n",
       "23758              Mitt Romney   August 23, 2007  mostly-true   \n",
       "23759             John Edwards   August 23, 2007  mostly-true   \n",
       "\n",
       "                                             article_url  \\\n",
       "0      https://www.politifact.com/factchecks/2023/oct...   \n",
       "1      https://www.politifact.com/factchecks/2023/oct...   \n",
       "2      https://www.politifact.com/factchecks/2023/oct...   \n",
       "3      https://www.politifact.com/factchecks/2023/oct...   \n",
       "4      https://www.politifact.com/factchecks/2023/oct...   \n",
       "...                                                  ...   \n",
       "23755  https://www.politifact.com/factchecks/2007/aug...   \n",
       "23756  https://www.politifact.com/factchecks/2007/aug...   \n",
       "23757  https://www.politifact.com/factchecks/2007/aug...   \n",
       "23758  https://www.politifact.com/factchecks/2007/aug...   \n",
       "23759  https://www.politifact.com/factchecks/2007/aug...   \n",
       "\n",
       "                                                 src_url  \n",
       "0      https://www.politifact.com/personalities/insta...  \n",
       "1      https://www.politifact.com/personalities/viral...  \n",
       "2      https://www.politifact.com/personalities/faceb...  \n",
       "3      https://www.politifact.com/personalities/insta...  \n",
       "4      https://www.politifact.com/personalities/new-y...  \n",
       "...                                                  ...  \n",
       "23755  https://www.politifact.com/personalities/joe-b...  \n",
       "23756  https://www.politifact.com/personalities/joe-b...  \n",
       "23757  https://www.politifact.com/personalities/mitt-...  \n",
       "23758  https://www.politifact.com/personalities/mitt-...  \n",
       "23759  https://www.politifact.com/personalities/john-...  \n",
       "\n",
       "[23760 rows x 7 columns]"
      ]
     },
     "execution_count": 3,
     "metadata": {},
     "output_type": "execute_result"
    }
   ],
   "source": [
    "data"
   ]
  },
  {
   "cell_type": "code",
   "execution_count": 4,
   "id": "8f734825",
   "metadata": {},
   "outputs": [
    {
     "data": {
      "text/html": [
       "<div>\n",
       "<style scoped>\n",
       "    .dataframe tbody tr th:only-of-type {\n",
       "        vertical-align: middle;\n",
       "    }\n",
       "\n",
       "    .dataframe tbody tr th {\n",
       "        vertical-align: top;\n",
       "    }\n",
       "\n",
       "    .dataframe thead th {\n",
       "        text-align: right;\n",
       "    }\n",
       "</style>\n",
       "<table border=\"1\" class=\"dataframe\">\n",
       "  <thead>\n",
       "    <tr style=\"text-align: right;\">\n",
       "      <th></th>\n",
       "      <th>statement</th>\n",
       "      <th>target</th>\n",
       "    </tr>\n",
       "  </thead>\n",
       "  <tbody>\n",
       "    <tr>\n",
       "      <th>0</th>\n",
       "      <td>“The airport in Salzburg, Austria, has a count...</td>\n",
       "      <td>false</td>\n",
       "    </tr>\n",
       "    <tr>\n",
       "      <th>1</th>\n",
       "      <td>Video shows Palestinians pretending to be corp...</td>\n",
       "      <td>false</td>\n",
       "    </tr>\n",
       "    <tr>\n",
       "      <th>2</th>\n",
       "      <td>The life span of a wind tower generator lasts ...</td>\n",
       "      <td>false</td>\n",
       "    </tr>\n",
       "    <tr>\n",
       "      <th>3</th>\n",
       "      <td>Matthew Perry died because of a COVID-19 vaccine.</td>\n",
       "      <td>false</td>\n",
       "    </tr>\n",
       "    <tr>\n",
       "      <th>4</th>\n",
       "      <td>A discrepancy in the number of ballots and vot...</td>\n",
       "      <td>false</td>\n",
       "    </tr>\n",
       "    <tr>\n",
       "      <th>...</th>\n",
       "      <td>...</td>\n",
       "      <td>...</td>\n",
       "    </tr>\n",
       "    <tr>\n",
       "      <th>23755</th>\n",
       "      <td>\"You know we can't just pull out now... The tr...</td>\n",
       "      <td>true</td>\n",
       "    </tr>\n",
       "    <tr>\n",
       "      <th>23756</th>\n",
       "      <td>\"The president is brain-dead.\"</td>\n",
       "      <td>pants-fire</td>\n",
       "    </tr>\n",
       "    <tr>\n",
       "      <th>23757</th>\n",
       "      <td>\"(McCain) said he was opposed to overturning R...</td>\n",
       "      <td>half-true</td>\n",
       "    </tr>\n",
       "    <tr>\n",
       "      <th>23758</th>\n",
       "      <td>\"(McCain) was opposed to ethanol. Now he's for...</td>\n",
       "      <td>mostly-true</td>\n",
       "    </tr>\n",
       "    <tr>\n",
       "      <th>23759</th>\n",
       "      <td>An estimated 56 million Americans don't have b...</td>\n",
       "      <td>mostly-true</td>\n",
       "    </tr>\n",
       "  </tbody>\n",
       "</table>\n",
       "<p>23760 rows × 2 columns</p>\n",
       "</div>"
      ],
      "text/plain": [
       "                                               statement       target\n",
       "0      “The airport in Salzburg, Austria, has a count...        false\n",
       "1      Video shows Palestinians pretending to be corp...        false\n",
       "2      The life span of a wind tower generator lasts ...        false\n",
       "3      Matthew Perry died because of a COVID-19 vaccine.        false\n",
       "4      A discrepancy in the number of ballots and vot...        false\n",
       "...                                                  ...          ...\n",
       "23755  \"You know we can't just pull out now... The tr...         true\n",
       "23756                     \"The president is brain-dead.\"   pants-fire\n",
       "23757  \"(McCain) said he was opposed to overturning R...    half-true\n",
       "23758  \"(McCain) was opposed to ethanol. Now he's for...  mostly-true\n",
       "23759  An estimated 56 million Americans don't have b...  mostly-true\n",
       "\n",
       "[23760 rows x 2 columns]"
      ]
     },
     "execution_count": 4,
     "metadata": {},
     "output_type": "execute_result"
    }
   ],
   "source": [
    "data_extracted = data[['statement', 'target']]\n",
    "data_extracted"
   ]
  },
  {
   "cell_type": "code",
   "execution_count": 5,
   "id": "8258ba0b",
   "metadata": {},
   "outputs": [],
   "source": [
    "import pandas as pd\n",
    "from sklearn.model_selection import train_test_split\n",
    "from sklearn.feature_extraction.text import TfidfVectorizer"
   ]
  },
  {
   "cell_type": "code",
   "execution_count": 6,
   "id": "99f59f24",
   "metadata": {},
   "outputs": [],
   "source": [
    "X = data_extracted['statement']\n",
    "y = data_extracted['target']"
   ]
  },
  {
   "cell_type": "code",
   "execution_count": 7,
   "id": "05c8c5ae",
   "metadata": {},
   "outputs": [],
   "source": [
    "X_train, X_test, y_train, y_test = train_test_split(X, y, test_size=0.2, random_state=77)"
   ]
  },
  {
   "cell_type": "code",
   "execution_count": 8,
   "id": "3c19300f",
   "metadata": {},
   "outputs": [],
   "source": [
    "tfidf_vectorizer = TfidfVectorizer(max_features=2500)"
   ]
  },
  {
   "cell_type": "code",
   "execution_count": 9,
   "id": "96f9a87a",
   "metadata": {},
   "outputs": [],
   "source": [
    "X_train_tfidf = tfidf_vectorizer.fit_transform(X_train)"
   ]
  },
  {
   "cell_type": "code",
   "execution_count": 10,
   "id": "f7967d70",
   "metadata": {},
   "outputs": [],
   "source": [
    "X_test_tfidf = tfidf_vectorizer.transform(X_test)"
   ]
  },
  {
   "cell_type": "code",
   "execution_count": 11,
   "id": "21c2508c",
   "metadata": {},
   "outputs": [
    {
     "data": {
      "text/plain": [
       "MultinomialNB()"
      ]
     },
     "execution_count": 11,
     "metadata": {},
     "output_type": "execute_result"
    }
   ],
   "source": [
    "from sklearn.naive_bayes import MultinomialNB\n",
    "\n",
    "# Initialize the Multinomial Naive Bayes classifier\n",
    "model = MultinomialNB()\n",
    "\n",
    "# Train the model\n",
    "model.fit(X_train_tfidf, y_train)"
   ]
  },
  {
   "cell_type": "code",
   "execution_count": 12,
   "id": "b2111993",
   "metadata": {},
   "outputs": [
    {
     "name": "stdout",
     "output_type": "stream",
     "text": [
      "Accuracy: 0.3207070707070707\n"
     ]
    }
   ],
   "source": [
    "from sklearn.metrics import accuracy_score, classification_report\n",
    "\n",
    "# Predict on the test set\n",
    "predictions = model.predict(X_test_tfidf)\n",
    "\n",
    "# Calculate accuracy\n",
    "accuracy = accuracy_score(y_test, predictions)\n",
    "print(f\"Accuracy: {accuracy}\")"
   ]
  },
  {
   "cell_type": "code",
   "execution_count": 13,
   "id": "5fee917e",
   "metadata": {},
   "outputs": [
    {
     "name": "stdout",
     "output_type": "stream",
     "text": [
      "Predicted target: ['false']\n"
     ]
    }
   ],
   "source": [
    "new_statement = [\"Hamas, a Palestinian militant group, acquires smuggled weapons from Iran and also builds them in Gaza, according to the CIA.News reports and analysis of weapons used by Hamas in its recent attacks on Israel say the weapons were largely built in Gaza.But a military expert at the Washington Institute, a pro-Israel U.S. think tank, said Hamas can still obtain U.S. weapons, by buying them on the black market or by capturing weapons the U.S. sent to Israel.\"]\n",
    "new_statement_tfidf = tfidf_vectorizer.transform(new_statement)\n",
    "prediction = model.predict(new_statement_tfidf)\n",
    "print(f\"Predicted target: {prediction}\")"
   ]
  },
  {
   "cell_type": "code",
   "execution_count": null,
   "id": "8af3604d",
   "metadata": {},
   "outputs": [],
   "source": []
  }
 ],
 "metadata": {
  "kernelspec": {
   "display_name": "Python 3 (clean)",
   "language": "python",
   "name": "python3_clean"
  },
  "language_info": {
   "codemirror_mode": {
    "name": "ipython",
    "version": 3
   },
   "file_extension": ".py",
   "mimetype": "text/x-python",
   "name": "python",
   "nbconvert_exporter": "python",
   "pygments_lexer": "ipython3",
   "version": "3.9.5"
  }
 },
 "nbformat": 4,
 "nbformat_minor": 5
}
